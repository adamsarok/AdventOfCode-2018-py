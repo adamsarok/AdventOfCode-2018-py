{
 "cells": [
  {
   "cell_type": "code",
   "execution_count": 4,
   "id": "8c754c01",
   "metadata": {},
   "outputs": [
    {
     "data": {
      "text/plain": [
       "425"
      ]
     },
     "execution_count": 4,
     "metadata": {},
     "output_type": "execute_result"
    }
   ],
   "source": [
    "day1 = 0\n",
    "with open('input.txt') as file:\n",
    "    for line in file:\n",
    "        day1 += int(line.rstrip())\n",
    "day1"
   ]
  },
  {
   "cell_type": "code",
   "execution_count": 11,
   "id": "51038d76",
   "metadata": {},
   "outputs": [
    {
     "data": {
      "text/plain": [
       "57538"
      ]
     },
     "execution_count": 11,
     "metadata": {},
     "output_type": "execute_result"
    }
   ],
   "source": [
    "def day2():\n",
    "    curr = 0\n",
    "    freqs = set()\n",
    "    while True:\n",
    "        with open('input.txt') as file:\n",
    "            for line in file:\n",
    "                curr += int(line.rstrip())\n",
    "                if curr in freqs:\n",
    "                    return curr\n",
    "                freqs.add(curr)\n",
    "\n",
    "day2()"
   ]
  },
  {
   "cell_type": "code",
   "execution_count": null,
   "id": "21fba0b6",
   "metadata": {},
   "outputs": [],
   "source": []
  }
 ],
 "metadata": {
  "kernelspec": {
   "display_name": "Python 3 (ipykernel)",
   "language": "python",
   "name": "python3"
  },
  "language_info": {
   "codemirror_mode": {
    "name": "ipython",
    "version": 3
   },
   "file_extension": ".py",
   "mimetype": "text/x-python",
   "name": "python",
   "nbconvert_exporter": "python",
   "pygments_lexer": "ipython3",
   "version": "3.11.5"
  }
 },
 "nbformat": 4,
 "nbformat_minor": 5
}
