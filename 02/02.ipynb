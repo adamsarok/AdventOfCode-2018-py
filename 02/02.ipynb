{
 "cells": [
  {
   "cell_type": "code",
   "execution_count": 35,
   "id": "07cbc63e",
   "metadata": {},
   "outputs": [
    {
     "name": "stdout",
     "output_type": "stream",
     "text": [
      "5456\n"
     ]
    }
   ],
   "source": [
    "def day1():\n",
    "    twos = 0\n",
    "    threes = 0\n",
    "    with open('input.txt', 'r') as file:\n",
    "        for line in file:\n",
    "            dict = {}\n",
    "            for char in line.rstrip():\n",
    "                if char in dict: dict[char] += 1\n",
    "                else: dict[char] = 1\n",
    "            if any(x == 2 for x in dict.values()):\n",
    "                twos += 1\n",
    "            if any(x == 3 for x in dict.values()):\n",
    "                threes += 1\n",
    "    return twos * threes\n",
    "    \n",
    "print(day1())"
   ]
  },
  {
   "cell_type": "code",
   "execution_count": 49,
   "id": "0b7b4888",
   "metadata": {},
   "outputs": [
    {
     "name": "stdout",
     "output_type": "stream",
     "text": [
      "megsdlpulxvinkatfoyzxcbvq\n"
     ]
    }
   ],
   "source": [
    "def day2():\n",
    "    with open('input.txt', 'r') as file:\n",
    "        lines = file.readlines()\n",
    "\n",
    "    for i, outer_line in enumerate(lines):\n",
    "        for inner_line in lines[i+1:]:\n",
    "            intersect = ''\n",
    "            l1 = outer_line.strip()\n",
    "            l2 = inner_line.strip()\n",
    "            for x in range(0, len(l1)):\n",
    "                if l1[x] == l2[x]: intersect += l1[x]\n",
    "            if len(intersect) == len(l1) - 1: return intersect\n",
    "    return '-1'\n",
    "    \n",
    "print(day2())"
   ]
  },
  {
   "cell_type": "code",
   "execution_count": null,
   "id": "3260cb3c",
   "metadata": {},
   "outputs": [],
   "source": []
  }
 ],
 "metadata": {
  "kernelspec": {
   "display_name": "Python 3 (ipykernel)",
   "language": "python",
   "name": "python3"
  },
  "language_info": {
   "codemirror_mode": {
    "name": "ipython",
    "version": 3
   },
   "file_extension": ".py",
   "mimetype": "text/x-python",
   "name": "python",
   "nbconvert_exporter": "python",
   "pygments_lexer": "ipython3",
   "version": "3.11.5"
  }
 },
 "nbformat": 4,
 "nbformat_minor": 5
}
