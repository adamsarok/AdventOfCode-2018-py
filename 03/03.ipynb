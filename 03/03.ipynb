{
 "cells": [
  {
   "cell_type": "code",
   "execution_count": 68,
   "id": "f2bb95f7",
   "metadata": {},
   "outputs": [],
   "source": [
    "import numpy as np\n",
    "from dataclasses import dataclass\n",
    "\n",
    "@dataclass\n",
    "class Rect:\n",
    "    id: int\n",
    "    x: int\n",
    "    y: int\n",
    "    width: int\n",
    "    height: int\n",
    "\n",
    "def getRects():\n",
    "    rects = []\n",
    "    with open('input.txt', 'r') as file:\n",
    "        for line in file:\n",
    "            l = line.rstrip()\n",
    "            xy = l.split('@')[1].split(':')[0]\n",
    "            size = l.split('@')[1].split(':')[1]\n",
    "            rects.append(Rect(\n",
    "                int(l.split('@')[0][1:]),\n",
    "                int(xy.split(',')[0]),\n",
    "                int(xy.split(',')[1]),\n",
    "                int(size.split('x')[0]),\n",
    "                int(size.split('x')[1])))\n",
    "    return rects"
   ]
  },
  {
   "cell_type": "code",
   "execution_count": 69,
   "id": "88839727-219b-4888-b2f7-a1a8e9db925d",
   "metadata": {},
   "outputs": [
    {
     "name": "stdout",
     "output_type": "stream",
     "text": [
      "118840\n"
     ]
    }
   ],
   "source": [
    "def part1():\n",
    "    result = 0\n",
    "    matrix = np.zeros((1000, 1000))\n",
    "    rects = getRects()\n",
    "    for rect in rects:\n",
    "        matrix[rect.y:rect.y+rect.height, rect.x:rect.x+rect.width] += 1 #row_start:row_end c_start:c_end\n",
    "    return np.count_nonzero(matrix > 1)\n",
    "\n",
    "print(part1())"
   ]
  },
  {
   "cell_type": "code",
   "execution_count": 70,
   "id": "93c66438",
   "metadata": {},
   "outputs": [
    {
     "name": "stdout",
     "output_type": "stream",
     "text": [
      "919\n"
     ]
    }
   ],
   "source": [
    "def part2():\n",
    "    result = 0\n",
    "    matrix = np.zeros((1000, 1000))\n",
    "    rects = getRects()\n",
    "    for rect in rects:\n",
    "        matrix[rect.y:rect.y+rect.height, rect.x:rect.x+rect.width] += 1 #row_start:row_end c_start:c_end\n",
    "    for rect in rects:\n",
    "        if (matrix[rect.y:rect.y+rect.height, rect.x:rect.x+rect.width] == 1).all(): return rect.id\n",
    "    return -1\n",
    "\n",
    "print(part2())"
   ]
  },
  {
   "cell_type": "code",
   "execution_count": null,
   "id": "3cb178bf-232b-4235-ad9f-96c283777276",
   "metadata": {},
   "outputs": [],
   "source": []
  }
 ],
 "metadata": {
  "kernelspec": {
   "display_name": "Python 3 (ipykernel)",
   "language": "python",
   "name": "python3"
  },
  "language_info": {
   "codemirror_mode": {
    "name": "ipython",
    "version": 3
   },
   "file_extension": ".py",
   "mimetype": "text/x-python",
   "name": "python",
   "nbconvert_exporter": "python",
   "pygments_lexer": "ipython3",
   "version": "3.12.4"
  }
 },
 "nbformat": 4,
 "nbformat_minor": 5
}
